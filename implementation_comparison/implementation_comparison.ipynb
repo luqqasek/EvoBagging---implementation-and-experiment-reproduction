{
 "cells": [
  {
   "cell_type": "markdown",
   "id": "aa9f0a30-deb6-4940-8bcd-d203c16c3c08",
   "metadata": {},
   "source": [
    "# Comparison of original implementation of Evolutionary Bagging with this package implementation"
   ]
  },
  {
   "cell_type": "markdown",
   "id": "7dff0bcd-24eb-4c0f-b9d3-b96a310d81a4",
   "metadata": {},
   "source": [
    "In this notebook empirical comparison between original and presented here implementation is conducted. Evolutionary Bagging model is trained using proposed in paper parameters and code on red_wine dataset. Model is trained 30 times and mean train accuracy is reported with test accuracy along standard deviation of these metrics."
   ]
  },
  {
   "cell_type": "markdown",
   "id": "c6fffb21-2647-488c-85e7-f29be1c6bc46",
   "metadata": {},
   "source": [
    "## Functions definition from original repository"
   ]
  },
  {
   "cell_type": "code",
   "execution_count": 1,
   "id": "ede2ebf1-67d8-404b-9966-dd85f70e9feb",
   "metadata": {},
   "outputs": [],
   "source": [
    "from evobagging_methods import EvoBagging as EvoBagging_original\n",
    "from data_processing import load_data\n",
    "from tqdm import tqdm\n",
    "import numpy as np"
   ]
  },
  {
   "cell_type": "markdown",
   "id": "faca4fe9-8095-4c12-8c4d-c4f1ce260fcc",
   "metadata": {},
   "source": [
    "## Original paper experiment"
   ]
  },
  {
   "cell_type": "markdown",
   "id": "8b79456d-a2ae-4b29-8524-9efb191d880d",
   "metadata": {},
   "source": [
    "Importing data with train / test split"
   ]
  },
  {
   "cell_type": "code",
   "execution_count": 2,
   "id": "64e0645e-dbe4-43d9-abb3-d5c3d57350ee",
   "metadata": {},
   "outputs": [
    {
     "name": "stdout",
     "output_type": "stream",
     "text": [
      "Train:  (1279, 11)  | Test:  (320, 11)\n",
      "Train labels:  (array([0, 1]), array([1105,  174], dtype=int64))\n",
      "Test labels:  (array([0, 1]), array([277,  43], dtype=int64))\n"
     ]
    }
   ],
   "source": [
    "X_train, X_test, y_train, y_test = load_data(\"red_wine\", test_size=0.2)"
   ]
  },
  {
   "cell_type": "code",
   "execution_count": 3,
   "id": "862fd294-ff15-4413-a790-128c0a780461",
   "metadata": {},
   "outputs": [],
   "source": [
    "n_select = 0\n",
    "n_bags = 50\n",
    "n_new_bags = 10\n",
    "max_initial_size = X_train.shape[0]\n",
    "n_crossover = n_bags - n_select - n_new_bags\n",
    "mutation_rate = 0.05\n",
    "mutation_size = int(max_initial_size*mutation_rate)\n",
    "n_mutation = 5\n",
    "size_coef = 5000\n",
    "metric = \"accuracy\""
   ]
  },
  {
   "cell_type": "code",
   "execution_count": 4,
   "id": "2686c19b-d0bf-41b0-be16-58faec6fe6e6",
   "metadata": {},
   "outputs": [],
   "source": [
    "optimizer = EvoBagging_original(X_train, y_train, n_select, n_new_bags, \n",
    "                        max_initial_size, n_crossover, n_mutation, \n",
    "                        mutation_size, size_coef, metric, 1)"
   ]
  },
  {
   "cell_type": "code",
   "execution_count": 5,
   "id": "1d78ce67-f07d-4787-89e4-35d36e112c60",
   "metadata": {},
   "outputs": [
    {
     "name": "stderr",
     "output_type": "stream",
     "text": [
      "100%|██████████████████████████████████████████████████████████████████████████████████| 25/25 [00:47<00:00,  1.89s/it]\n"
     ]
    },
    {
     "name": "stdout",
     "output_type": "stream",
     "text": [
      "Experiment iteration 1: done\n"
     ]
    },
    {
     "name": "stderr",
     "output_type": "stream",
     "text": [
      "100%|██████████████████████████████████████████████████████████████████████████████████| 25/25 [00:50<00:00,  2.04s/it]\n"
     ]
    },
    {
     "name": "stdout",
     "output_type": "stream",
     "text": [
      "Experiment iteration 2: done\n"
     ]
    },
    {
     "name": "stderr",
     "output_type": "stream",
     "text": [
      "100%|██████████████████████████████████████████████████████████████████████████████████| 25/25 [00:50<00:00,  2.03s/it]\n"
     ]
    },
    {
     "name": "stdout",
     "output_type": "stream",
     "text": [
      "Experiment iteration 3: done\n"
     ]
    },
    {
     "name": "stderr",
     "output_type": "stream",
     "text": [
      "100%|██████████████████████████████████████████████████████████████████████████████████| 25/25 [00:49<00:00,  1.97s/it]\n"
     ]
    },
    {
     "name": "stdout",
     "output_type": "stream",
     "text": [
      "Experiment iteration 4: done\n"
     ]
    },
    {
     "name": "stderr",
     "output_type": "stream",
     "text": [
      "100%|██████████████████████████████████████████████████████████████████████████████████| 25/25 [00:51<00:00,  2.07s/it]\n"
     ]
    },
    {
     "name": "stdout",
     "output_type": "stream",
     "text": [
      "Experiment iteration 5: done\n"
     ]
    },
    {
     "name": "stderr",
     "output_type": "stream",
     "text": [
      "100%|██████████████████████████████████████████████████████████████████████████████████| 25/25 [00:50<00:00,  2.04s/it]\n"
     ]
    },
    {
     "name": "stdout",
     "output_type": "stream",
     "text": [
      "Experiment iteration 6: done\n"
     ]
    },
    {
     "name": "stderr",
     "output_type": "stream",
     "text": [
      "100%|██████████████████████████████████████████████████████████████████████████████████| 25/25 [00:52<00:00,  2.11s/it]\n"
     ]
    },
    {
     "name": "stdout",
     "output_type": "stream",
     "text": [
      "Experiment iteration 7: done\n"
     ]
    },
    {
     "name": "stderr",
     "output_type": "stream",
     "text": [
      "100%|██████████████████████████████████████████████████████████████████████████████████| 25/25 [00:50<00:00,  2.02s/it]\n"
     ]
    },
    {
     "name": "stdout",
     "output_type": "stream",
     "text": [
      "Experiment iteration 8: done\n"
     ]
    },
    {
     "name": "stderr",
     "output_type": "stream",
     "text": [
      "100%|██████████████████████████████████████████████████████████████████████████████████| 25/25 [00:51<00:00,  2.06s/it]\n"
     ]
    },
    {
     "name": "stdout",
     "output_type": "stream",
     "text": [
      "Experiment iteration 9: done\n"
     ]
    },
    {
     "name": "stderr",
     "output_type": "stream",
     "text": [
      "100%|██████████████████████████████████████████████████████████████████████████████████| 25/25 [00:54<00:00,  2.20s/it]\n"
     ]
    },
    {
     "name": "stdout",
     "output_type": "stream",
     "text": [
      "Experiment iteration 10: done\n"
     ]
    },
    {
     "name": "stderr",
     "output_type": "stream",
     "text": [
      "100%|██████████████████████████████████████████████████████████████████████████████████| 25/25 [00:51<00:00,  2.06s/it]\n"
     ]
    },
    {
     "name": "stdout",
     "output_type": "stream",
     "text": [
      "Experiment iteration 11: done\n"
     ]
    },
    {
     "name": "stderr",
     "output_type": "stream",
     "text": [
      "100%|██████████████████████████████████████████████████████████████████████████████████| 25/25 [00:55<00:00,  2.22s/it]\n"
     ]
    },
    {
     "name": "stdout",
     "output_type": "stream",
     "text": [
      "Experiment iteration 12: done\n"
     ]
    },
    {
     "name": "stderr",
     "output_type": "stream",
     "text": [
      "100%|██████████████████████████████████████████████████████████████████████████████████| 25/25 [00:56<00:00,  2.26s/it]\n"
     ]
    },
    {
     "name": "stdout",
     "output_type": "stream",
     "text": [
      "Experiment iteration 13: done\n"
     ]
    },
    {
     "name": "stderr",
     "output_type": "stream",
     "text": [
      "100%|██████████████████████████████████████████████████████████████████████████████████| 25/25 [00:52<00:00,  2.08s/it]\n"
     ]
    },
    {
     "name": "stdout",
     "output_type": "stream",
     "text": [
      "Experiment iteration 14: done\n"
     ]
    },
    {
     "name": "stderr",
     "output_type": "stream",
     "text": [
      "100%|██████████████████████████████████████████████████████████████████████████████████| 25/25 [00:51<00:00,  2.06s/it]\n"
     ]
    },
    {
     "name": "stdout",
     "output_type": "stream",
     "text": [
      "Experiment iteration 15: done\n"
     ]
    },
    {
     "name": "stderr",
     "output_type": "stream",
     "text": [
      "100%|██████████████████████████████████████████████████████████████████████████████████| 25/25 [00:51<00:00,  2.06s/it]\n"
     ]
    },
    {
     "name": "stdout",
     "output_type": "stream",
     "text": [
      "Experiment iteration 16: done\n"
     ]
    },
    {
     "name": "stderr",
     "output_type": "stream",
     "text": [
      "100%|██████████████████████████████████████████████████████████████████████████████████| 25/25 [00:53<00:00,  2.16s/it]\n"
     ]
    },
    {
     "name": "stdout",
     "output_type": "stream",
     "text": [
      "Experiment iteration 17: done\n"
     ]
    },
    {
     "name": "stderr",
     "output_type": "stream",
     "text": [
      "100%|██████████████████████████████████████████████████████████████████████████████████| 25/25 [01:03<00:00,  2.54s/it]\n"
     ]
    },
    {
     "name": "stdout",
     "output_type": "stream",
     "text": [
      "Experiment iteration 18: done\n"
     ]
    },
    {
     "name": "stderr",
     "output_type": "stream",
     "text": [
      "100%|██████████████████████████████████████████████████████████████████████████████████| 25/25 [00:50<00:00,  2.04s/it]\n"
     ]
    },
    {
     "name": "stdout",
     "output_type": "stream",
     "text": [
      "Experiment iteration 19: done\n"
     ]
    },
    {
     "name": "stderr",
     "output_type": "stream",
     "text": [
      "100%|██████████████████████████████████████████████████████████████████████████████████| 25/25 [00:51<00:00,  2.07s/it]\n"
     ]
    },
    {
     "name": "stdout",
     "output_type": "stream",
     "text": [
      "Experiment iteration 20: done\n"
     ]
    },
    {
     "name": "stderr",
     "output_type": "stream",
     "text": [
      "100%|██████████████████████████████████████████████████████████████████████████████████| 25/25 [00:51<00:00,  2.08s/it]\n"
     ]
    },
    {
     "name": "stdout",
     "output_type": "stream",
     "text": [
      "Experiment iteration 21: done\n"
     ]
    },
    {
     "name": "stderr",
     "output_type": "stream",
     "text": [
      "100%|██████████████████████████████████████████████████████████████████████████████████| 25/25 [00:51<00:00,  2.04s/it]\n"
     ]
    },
    {
     "name": "stdout",
     "output_type": "stream",
     "text": [
      "Experiment iteration 22: done\n"
     ]
    },
    {
     "name": "stderr",
     "output_type": "stream",
     "text": [
      "100%|██████████████████████████████████████████████████████████████████████████████████| 25/25 [00:50<00:00,  2.02s/it]\n"
     ]
    },
    {
     "name": "stdout",
     "output_type": "stream",
     "text": [
      "Experiment iteration 23: done\n"
     ]
    },
    {
     "name": "stderr",
     "output_type": "stream",
     "text": [
      "100%|██████████████████████████████████████████████████████████████████████████████████| 25/25 [00:50<00:00,  2.02s/it]\n"
     ]
    },
    {
     "name": "stdout",
     "output_type": "stream",
     "text": [
      "Experiment iteration 24: done\n"
     ]
    },
    {
     "name": "stderr",
     "output_type": "stream",
     "text": [
      "100%|██████████████████████████████████████████████████████████████████████████████████| 25/25 [00:49<00:00,  2.00s/it]\n"
     ]
    },
    {
     "name": "stdout",
     "output_type": "stream",
     "text": [
      "Experiment iteration 25: done\n"
     ]
    },
    {
     "name": "stderr",
     "output_type": "stream",
     "text": [
      "100%|██████████████████████████████████████████████████████████████████████████████████| 25/25 [00:50<00:00,  2.02s/it]\n"
     ]
    },
    {
     "name": "stdout",
     "output_type": "stream",
     "text": [
      "Experiment iteration 26: done\n"
     ]
    },
    {
     "name": "stderr",
     "output_type": "stream",
     "text": [
      "100%|██████████████████████████████████████████████████████████████████████████████████| 25/25 [00:51<00:00,  2.07s/it]\n"
     ]
    },
    {
     "name": "stdout",
     "output_type": "stream",
     "text": [
      "Experiment iteration 27: done\n"
     ]
    },
    {
     "name": "stderr",
     "output_type": "stream",
     "text": [
      "100%|██████████████████████████████████████████████████████████████████████████████████| 25/25 [00:50<00:00,  2.03s/it]\n"
     ]
    },
    {
     "name": "stdout",
     "output_type": "stream",
     "text": [
      "Experiment iteration 28: done\n"
     ]
    },
    {
     "name": "stderr",
     "output_type": "stream",
     "text": [
      "100%|██████████████████████████████████████████████████████████████████████████████████| 25/25 [00:51<00:00,  2.05s/it]\n"
     ]
    },
    {
     "name": "stdout",
     "output_type": "stream",
     "text": [
      "Experiment iteration 29: done\n"
     ]
    },
    {
     "name": "stderr",
     "output_type": "stream",
     "text": [
      "100%|██████████████████████████████████████████████████████████████████████████████████| 25/25 [00:50<00:00,  2.01s/it]"
     ]
    },
    {
     "name": "stdout",
     "output_type": "stream",
     "text": [
      "Experiment iteration 30: done\n"
     ]
    },
    {
     "name": "stderr",
     "output_type": "stream",
     "text": [
      "\n"
     ]
    }
   ],
   "source": [
    "all_voting_train, all_voting_test = [], []\n",
    "# init random bags of random sizes\n",
    "for k in range(30):\n",
    "    bags = {i: optimizer.gen_new_bag() for i in range(n_bags)}\n",
    "    # evaluate\n",
    "    bags = optimizer.evaluate_bags(bags)\n",
    "    voting_train, voting_test = [], []\n",
    "\n",
    "    for i in tqdm(range(25)):\n",
    "        bags = optimizer.evobagging_optimization(bags)\n",
    "        majority_voting_train_metric = optimizer.voting_metric(X_train, y_train, bags)\n",
    "        majority_voting_test_metric = optimizer.voting_metric(X_test, y_test, bags)\n",
    "        voting_train.append(majority_voting_train_metric)\n",
    "        voting_test.append(majority_voting_test_metric)\n",
    "\n",
    "    best_iter = np.argmax(voting_train)\n",
    "    all_voting_train.append(voting_train[best_iter])\n",
    "    all_voting_test.append(voting_test[best_iter])\n",
    "    print(f\"Experiment iteration {k+1}: done\")"
   ]
  },
  {
   "cell_type": "markdown",
   "id": "238fb852-e873-464d-be62-c9a309ca939e",
   "metadata": {},
   "source": [
    "## Our implementation"
   ]
  },
  {
   "cell_type": "code",
   "execution_count": 11,
   "id": "b344ad5b-b9a9-4938-9173-b3fc40a30f86",
   "metadata": {},
   "outputs": [],
   "source": [
    "import sys\n",
    "import os\n",
    "from pathlib import Path\n",
    "sys.path.append(str(Path.cwd().parent))\n",
    "\n",
    "# importing\n",
    "from EvoBagging import EvoBagging as EvoBagging_our"
   ]
  },
  {
   "cell_type": "code",
   "execution_count": 14,
   "id": "c7dbb3db-2270-4006-a714-f6fd17f1c282",
   "metadata": {},
   "outputs": [],
   "source": [
    "X_train, X_test, y_train, y_test = X_train.to_numpy(), X_test.to_numpy(), y_train.to_numpy().flatten(), y_test.to_numpy().flatten()"
   ]
  },
  {
   "cell_type": "code",
   "execution_count": 15,
   "id": "596c9fea-f7b3-4508-9126-3abe440a5eb8",
   "metadata": {},
   "outputs": [
    {
     "name": "stderr",
     "output_type": "stream",
     "text": [
      "100%|██████████████████████████████████████████████████████████████████████████████████| 25/25 [00:07<00:00,  3.19it/s]\n"
     ]
    },
    {
     "name": "stdout",
     "output_type": "stream",
     "text": [
      "Experiment iteration 1: done\n"
     ]
    },
    {
     "name": "stderr",
     "output_type": "stream",
     "text": [
      "100%|██████████████████████████████████████████████████████████████████████████████████| 25/25 [00:08<00:00,  2.93it/s]\n"
     ]
    },
    {
     "name": "stdout",
     "output_type": "stream",
     "text": [
      "Experiment iteration 2: done\n"
     ]
    },
    {
     "name": "stderr",
     "output_type": "stream",
     "text": [
      "100%|██████████████████████████████████████████████████████████████████████████████████| 25/25 [00:08<00:00,  3.12it/s]\n"
     ]
    },
    {
     "name": "stdout",
     "output_type": "stream",
     "text": [
      "Experiment iteration 3: done\n"
     ]
    },
    {
     "name": "stderr",
     "output_type": "stream",
     "text": [
      "100%|██████████████████████████████████████████████████████████████████████████████████| 25/25 [00:08<00:00,  3.03it/s]\n"
     ]
    },
    {
     "name": "stdout",
     "output_type": "stream",
     "text": [
      "Experiment iteration 4: done\n"
     ]
    },
    {
     "name": "stderr",
     "output_type": "stream",
     "text": [
      "100%|██████████████████████████████████████████████████████████████████████████████████| 25/25 [00:08<00:00,  3.02it/s]\n"
     ]
    },
    {
     "name": "stdout",
     "output_type": "stream",
     "text": [
      "Experiment iteration 5: done\n"
     ]
    },
    {
     "name": "stderr",
     "output_type": "stream",
     "text": [
      "100%|██████████████████████████████████████████████████████████████████████████████████| 25/25 [00:08<00:00,  3.09it/s]\n"
     ]
    },
    {
     "name": "stdout",
     "output_type": "stream",
     "text": [
      "Experiment iteration 6: done\n"
     ]
    },
    {
     "name": "stderr",
     "output_type": "stream",
     "text": [
      "100%|██████████████████████████████████████████████████████████████████████████████████| 25/25 [00:07<00:00,  3.18it/s]\n"
     ]
    },
    {
     "name": "stdout",
     "output_type": "stream",
     "text": [
      "Experiment iteration 7: done\n"
     ]
    },
    {
     "name": "stderr",
     "output_type": "stream",
     "text": [
      "100%|██████████████████████████████████████████████████████████████████████████████████| 25/25 [00:07<00:00,  3.18it/s]\n"
     ]
    },
    {
     "name": "stdout",
     "output_type": "stream",
     "text": [
      "Experiment iteration 8: done\n"
     ]
    },
    {
     "name": "stderr",
     "output_type": "stream",
     "text": [
      "100%|██████████████████████████████████████████████████████████████████████████████████| 25/25 [00:08<00:00,  3.11it/s]\n"
     ]
    },
    {
     "name": "stdout",
     "output_type": "stream",
     "text": [
      "Experiment iteration 9: done\n"
     ]
    },
    {
     "name": "stderr",
     "output_type": "stream",
     "text": [
      "100%|██████████████████████████████████████████████████████████████████████████████████| 25/25 [00:07<00:00,  3.24it/s]\n"
     ]
    },
    {
     "name": "stdout",
     "output_type": "stream",
     "text": [
      "Experiment iteration 10: done\n"
     ]
    },
    {
     "name": "stderr",
     "output_type": "stream",
     "text": [
      "100%|██████████████████████████████████████████████████████████████████████████████████| 25/25 [00:08<00:00,  3.11it/s]\n"
     ]
    },
    {
     "name": "stdout",
     "output_type": "stream",
     "text": [
      "Experiment iteration 11: done\n"
     ]
    },
    {
     "name": "stderr",
     "output_type": "stream",
     "text": [
      "100%|██████████████████████████████████████████████████████████████████████████████████| 25/25 [00:08<00:00,  3.09it/s]\n"
     ]
    },
    {
     "name": "stdout",
     "output_type": "stream",
     "text": [
      "Experiment iteration 12: done\n"
     ]
    },
    {
     "name": "stderr",
     "output_type": "stream",
     "text": [
      "100%|██████████████████████████████████████████████████████████████████████████████████| 25/25 [00:08<00:00,  3.08it/s]\n"
     ]
    },
    {
     "name": "stdout",
     "output_type": "stream",
     "text": [
      "Experiment iteration 13: done\n"
     ]
    },
    {
     "name": "stderr",
     "output_type": "stream",
     "text": [
      "100%|██████████████████████████████████████████████████████████████████████████████████| 25/25 [00:08<00:00,  3.11it/s]\n"
     ]
    },
    {
     "name": "stdout",
     "output_type": "stream",
     "text": [
      "Experiment iteration 14: done\n"
     ]
    },
    {
     "name": "stderr",
     "output_type": "stream",
     "text": [
      "100%|██████████████████████████████████████████████████████████████████████████████████| 25/25 [00:07<00:00,  3.19it/s]\n"
     ]
    },
    {
     "name": "stdout",
     "output_type": "stream",
     "text": [
      "Experiment iteration 15: done\n"
     ]
    },
    {
     "name": "stderr",
     "output_type": "stream",
     "text": [
      "100%|██████████████████████████████████████████████████████████████████████████████████| 25/25 [00:08<00:00,  3.10it/s]\n"
     ]
    },
    {
     "name": "stdout",
     "output_type": "stream",
     "text": [
      "Experiment iteration 16: done\n"
     ]
    },
    {
     "name": "stderr",
     "output_type": "stream",
     "text": [
      "100%|██████████████████████████████████████████████████████████████████████████████████| 25/25 [00:08<00:00,  3.10it/s]\n"
     ]
    },
    {
     "name": "stdout",
     "output_type": "stream",
     "text": [
      "Experiment iteration 17: done\n"
     ]
    },
    {
     "name": "stderr",
     "output_type": "stream",
     "text": [
      "100%|██████████████████████████████████████████████████████████████████████████████████| 25/25 [00:09<00:00,  2.63it/s]\n"
     ]
    },
    {
     "name": "stdout",
     "output_type": "stream",
     "text": [
      "Experiment iteration 18: done\n"
     ]
    },
    {
     "name": "stderr",
     "output_type": "stream",
     "text": [
      "100%|██████████████████████████████████████████████████████████████████████████████████| 25/25 [00:08<00:00,  2.94it/s]\n"
     ]
    },
    {
     "name": "stdout",
     "output_type": "stream",
     "text": [
      "Experiment iteration 19: done\n"
     ]
    },
    {
     "name": "stderr",
     "output_type": "stream",
     "text": [
      "100%|██████████████████████████████████████████████████████████████████████████████████| 25/25 [00:08<00:00,  2.84it/s]\n"
     ]
    },
    {
     "name": "stdout",
     "output_type": "stream",
     "text": [
      "Experiment iteration 20: done\n"
     ]
    },
    {
     "name": "stderr",
     "output_type": "stream",
     "text": [
      "100%|██████████████████████████████████████████████████████████████████████████████████| 25/25 [00:08<00:00,  2.97it/s]\n"
     ]
    },
    {
     "name": "stdout",
     "output_type": "stream",
     "text": [
      "Experiment iteration 21: done\n"
     ]
    },
    {
     "name": "stderr",
     "output_type": "stream",
     "text": [
      "100%|██████████████████████████████████████████████████████████████████████████████████| 25/25 [00:08<00:00,  3.12it/s]\n"
     ]
    },
    {
     "name": "stdout",
     "output_type": "stream",
     "text": [
      "Experiment iteration 22: done\n"
     ]
    },
    {
     "name": "stderr",
     "output_type": "stream",
     "text": [
      "100%|██████████████████████████████████████████████████████████████████████████████████| 25/25 [00:07<00:00,  3.19it/s]\n"
     ]
    },
    {
     "name": "stdout",
     "output_type": "stream",
     "text": [
      "Experiment iteration 23: done\n"
     ]
    },
    {
     "name": "stderr",
     "output_type": "stream",
     "text": [
      "100%|██████████████████████████████████████████████████████████████████████████████████| 25/25 [00:08<00:00,  3.06it/s]\n"
     ]
    },
    {
     "name": "stdout",
     "output_type": "stream",
     "text": [
      "Experiment iteration 24: done\n"
     ]
    },
    {
     "name": "stderr",
     "output_type": "stream",
     "text": [
      "100%|██████████████████████████████████████████████████████████████████████████████████| 25/25 [00:08<00:00,  2.87it/s]\n"
     ]
    },
    {
     "name": "stdout",
     "output_type": "stream",
     "text": [
      "Experiment iteration 25: done\n"
     ]
    },
    {
     "name": "stderr",
     "output_type": "stream",
     "text": [
      "100%|██████████████████████████████████████████████████████████████████████████████████| 25/25 [00:08<00:00,  2.82it/s]\n"
     ]
    },
    {
     "name": "stdout",
     "output_type": "stream",
     "text": [
      "Experiment iteration 26: done\n"
     ]
    },
    {
     "name": "stderr",
     "output_type": "stream",
     "text": [
      "100%|██████████████████████████████████████████████████████████████████████████████████| 25/25 [00:09<00:00,  2.71it/s]\n"
     ]
    },
    {
     "name": "stdout",
     "output_type": "stream",
     "text": [
      "Experiment iteration 27: done\n"
     ]
    },
    {
     "name": "stderr",
     "output_type": "stream",
     "text": [
      "100%|██████████████████████████████████████████████████████████████████████████████████| 25/25 [00:08<00:00,  3.01it/s]\n"
     ]
    },
    {
     "name": "stdout",
     "output_type": "stream",
     "text": [
      "Experiment iteration 28: done\n"
     ]
    },
    {
     "name": "stderr",
     "output_type": "stream",
     "text": [
      "100%|██████████████████████████████████████████████████████████████████████████████████| 25/25 [00:08<00:00,  2.99it/s]\n"
     ]
    },
    {
     "name": "stdout",
     "output_type": "stream",
     "text": [
      "Experiment iteration 29: done\n"
     ]
    },
    {
     "name": "stderr",
     "output_type": "stream",
     "text": [
      "100%|██████████████████████████████████████████████████████████████████████████████████| 25/25 [00:08<00:00,  2.99it/s]"
     ]
    },
    {
     "name": "stdout",
     "output_type": "stream",
     "text": [
      "Experiment iteration 30: done\n"
     ]
    },
    {
     "name": "stderr",
     "output_type": "stream",
     "text": [
      "\n"
     ]
    }
   ],
   "source": [
    "acus_test = []\n",
    "acus_train = []\n",
    "for i in range(30):\n",
    "    model = EvoBagging_our(number_of_initial_bags=n_bags,\n",
    "                       maximum_bag_size=max_initial_size,\n",
    "                       generation_gap_size=n_new_bags,\n",
    "                       k=size_coef,\n",
    "                       mutation_size=mutation_size,\n",
    "                       mode='classification',\n",
    "                       number_of_mutated_bags=n_mutation,\n",
    "                       number_of_iteration=25,\n",
    "                       selection='naive',\n",
    "                       logging=False,\n",
    "                       metric_name=\"accuracy_score\")\n",
    "\n",
    "    # Training\n",
    "    model.fit(X_train, y_train)\n",
    "\n",
    "    pred_test = model.predict(X_test)\n",
    "    pred_train = model.predict(X_train)\n",
    "\n",
    "    acus_train.append(np.sum(pred_train == y_train)/y_train.shape[0])\n",
    "    acus_test.append(np.sum(pred_test == y_test)/y_test.shape[0])\n",
    "    print(f\"Experiment iteration {i+1}: done\")"
   ]
  },
  {
   "cell_type": "markdown",
   "id": "51d8eeb0-a4e4-41c5-abc7-33268fbe5481",
   "metadata": {},
   "source": [
    "## Comaprison of results"
   ]
  },
  {
   "cell_type": "code",
   "execution_count": 16,
   "id": "c09096d1-0c6a-491b-b9cf-bd3af2fdad22",
   "metadata": {},
   "outputs": [
    {
     "name": "stdout",
     "output_type": "stream",
     "text": [
      "Results from original paper implementation\n",
      "Train mean acu : 0.9956737034141255\n",
      "Train std acu  : 0.0008967761550213717\n",
      "Test mean acu  : 0.9169791666666666\n",
      "Test std acu   : 0.0047518728033154305\n"
     ]
    }
   ],
   "source": [
    "print(\"Results from original paper implementation\")\n",
    "print(f\"Train mean acu : {np.mean(all_voting_train)}\")\n",
    "print(f\"Train std acu  : {np.std(all_voting_train)}\")\n",
    "print(f\"Test mean acu  : {np.mean(all_voting_test)}\")\n",
    "print(f\"Test std acu   : {np.std(all_voting_test)}\")"
   ]
  },
  {
   "cell_type": "code",
   "execution_count": 17,
   "id": "a0a3374e-4128-4a98-9a82-8ac43e5eb704",
   "metadata": {},
   "outputs": [
    {
     "name": "stdout",
     "output_type": "stream",
     "text": [
      "Results from our implementation\n",
      "Train mean acu : 0.9955694553036225\n",
      "Train std acu  : 0.0010160848939076137\n",
      "Test mean acu  : 0.9164583333333332\n",
      "Test std acu   : 0.004340138886666591\n"
     ]
    }
   ],
   "source": [
    "print(\"Results from our implementation\")\n",
    "print(f\"Train mean acu : {np.mean(acus_train)}\")\n",
    "print(f\"Train std acu  : {np.std(acus_train)}\")\n",
    "print(f\"Test mean acu  : {np.mean(acus_test)}\")\n",
    "print(f\"Test std acu   : {np.std(acus_test)}\")"
   ]
  },
  {
   "cell_type": "code",
   "execution_count": 18,
   "id": "9c5455c2-7d18-41e8-be5f-0ec211605b64",
   "metadata": {},
   "outputs": [
    {
     "name": "stdout",
     "output_type": "stream",
     "text": [
      "Differents Between our implementation and origianl implementation\n",
      "Train mean acu difference : -0.00010424811050302463\n",
      "Train std acu difference  : 0.00011930873888624206\n",
      "Test mean acu difference  : -0.0005208333333334147\n",
      "Test std acu difference   : -0.00041173391664883936\n"
     ]
    }
   ],
   "source": [
    "print(\"Differents Between our implementation and origianl implementation\")\n",
    "print(f\"Train mean acu difference : {np.mean(acus_train)-np.mean(all_voting_train)}\")\n",
    "print(f\"Train std acu difference  : {np.std(acus_train)-np.std(all_voting_train)}\")\n",
    "print(f\"Test mean acu difference  : {np.mean(acus_test)-np.mean(all_voting_test)}\")\n",
    "print(f\"Test std acu difference   : {np.std(acus_test)-np.std(all_voting_test)}\")"
   ]
  },
  {
   "cell_type": "markdown",
   "id": "7d155dd8-fc66-4147-b745-5644453c9bf1",
   "metadata": {},
   "source": [
    "As we can see both alrgorithms perform similarly. Suprisingly this result is much different than reported in original paper where mean test accuracy was equal to 92.76. Let's see whether statistical test will tell us that difference in sample mean is significant and whether it differs significantly from one reported in paper."
   ]
  },
  {
   "cell_type": "code",
   "execution_count": 19,
   "id": "53604c25-0395-4e1f-8cc7-f19fd6bcc2f9",
   "metadata": {},
   "outputs": [
    {
     "data": {
      "text/plain": [
       "Ttest_relResult(statistic=0.5065936913756394, pvalue=0.6162701431791301)"
      ]
     },
     "execution_count": 19,
     "metadata": {},
     "output_type": "execute_result"
    }
   ],
   "source": [
    "import scipy.stats as stats\n",
    "stats.ttest_rel(all_voting_test, acus_test)"
   ]
  },
  {
   "cell_type": "markdown",
   "id": "6055ee7a-1810-4eaa-b8d1-79d470d517fe",
   "metadata": {},
   "source": [
    "There is not enough evidence to reject null hypothesis stating that means doesn't differ significantly"
   ]
  },
  {
   "cell_type": "code",
   "execution_count": 20,
   "id": "84d7ea64-a13f-4da9-96d2-9370b00454dc",
   "metadata": {},
   "outputs": [
    {
     "name": "stdout",
     "output_type": "stream",
     "text": [
      "T-statistic value:  -13.824375853612393\n",
      "P-Value:  2.7037794008707763e-14\n"
     ]
    }
   ],
   "source": [
    "t_stat, p_value = stats.ttest_1samp(acus_test, popmean=0.9276)\n",
    "print(\"T-statistic value for our implementation: \", t_stat)  \n",
    "print(\"P-Value: \", p_value)"
   ]
  },
  {
   "cell_type": "code",
   "execution_count": 21,
   "id": "b26d56f2-78cf-4048-ac9f-aea1856b7103",
   "metadata": {},
   "outputs": [
    {
     "name": "stdout",
     "output_type": "stream",
     "text": [
      "T-statistic value for original implementation:  -12.036293953239372\n",
      "P-Value:  8.419464017452625e-13\n"
     ]
    }
   ],
   "source": [
    "t_stat, p_value = stats.ttest_1samp(all_voting_test, popmean=0.9276)\n",
    "print(\"T-statistic value for original implementation: \", t_stat)  \n",
    "print(\"P-Value: \", p_value)"
   ]
  },
  {
   "cell_type": "markdown",
   "id": "4db9a878-8dc7-4460-98fd-928c050da75b",
   "metadata": {},
   "source": [
    "In both cases t-test has p-value indicating there is enough evidence to reject null hypothesis that mean accuracy is equal to 92.76 reported in origianl paper"
   ]
  },
  {
   "cell_type": "markdown",
   "id": "ece157a8-74e2-4c02-b877-361605adbdee",
   "metadata": {},
   "source": [
    "We can also look at maximum value of test metric which is very close to reported value. However quoting paper \"We run 30 independent experiments with different random initialisation (content of bags) and report the mean and standard deviation of the respective metrics\" it is said that authors report mean not maximum."
   ]
  },
  {
   "cell_type": "code",
   "execution_count": 25,
   "id": "26c054bd-fadc-483d-b398-4918cecec396",
   "metadata": {},
   "outputs": [
    {
     "data": {
      "text/plain": [
       "0.925"
      ]
     },
     "execution_count": 25,
     "metadata": {},
     "output_type": "execute_result"
    }
   ],
   "source": [
    "np.max(all_voting_test)"
   ]
  },
  {
   "cell_type": "code",
   "execution_count": 26,
   "id": "6eda6d52-9d7b-4e18-bc6d-d6743fc8de1e",
   "metadata": {},
   "outputs": [
    {
     "data": {
      "text/plain": [
       "0.925"
      ]
     },
     "execution_count": 26,
     "metadata": {},
     "output_type": "execute_result"
    }
   ],
   "source": [
    "np.max(acus_test)"
   ]
  }
 ],
 "metadata": {
  "kernelspec": {
   "display_name": "Python 3",
   "language": "python",
   "name": "python3"
  },
  "language_info": {
   "codemirror_mode": {
    "name": "ipython",
    "version": 3
   },
   "file_extension": ".py",
   "mimetype": "text/x-python",
   "name": "python",
   "nbconvert_exporter": "python",
   "pygments_lexer": "ipython3",
   "version": "3.8.8"
  },
  "toc-autonumbering": false
 },
 "nbformat": 4,
 "nbformat_minor": 5
}
